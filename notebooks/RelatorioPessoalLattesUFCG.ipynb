{
 "cells": [
  {
   "cell_type": "code",
   "execution_count": 1,
   "metadata": {
    "ExecuteTime": {
     "end_time": "2020-08-10T01:30:05.057845Z",
     "start_time": "2020-08-10T01:30:04.695254Z"
    },
    "tags": [
     "HIDE"
    ]
   },
   "outputs": [],
   "source": [
    "import importlib\n",
    "import os\n",
    "import sys\n",
    "from glob import glob\n",
    "import numpy as np\n",
    "import warnings\n",
    "warnings.simplefilter(action='ignore', category=FutureWarning)\n",
    "import pandas as pd\n",
    "import random\n",
    "from datetime import datetime as dt\n",
    "caminho = os.path.abspath(\"../src/pylattesLXML/\")\n",
    "os.chdir(caminho)\n",
    "dirpath = os.getcwd()\n",
    "# Pacotes básicos\n",
    "#show result from all calculations of the cell\n",
    "from IPython.core.interactiveshell import InteractiveShell\n",
    "InteractiveShell.ast_node_interactivity = \"all\"\n",
    "#----Carregando Módulo\n",
    "import pylattesLXML as lattes"
   ]
  },
  {
   "cell_type": "code",
   "execution_count": 2,
   "metadata": {
    "ExecuteTime": {
     "end_time": "2020-08-10T01:30:06.936515Z",
     "start_time": "2020-08-10T01:30:06.933802Z"
    },
    "tags": [
     "HIDE",
     "parameters"
    ]
   },
   "outputs": [],
   "source": [
    "nome = 'ALANA TAMAR OLIVEIRA DE SOUSA'"
   ]
  },
  {
   "cell_type": "code",
   "execution_count": 5,
   "metadata": {
    "ExecuteTime": {
     "end_time": "2020-08-10T01:33:41.450441Z",
     "start_time": "2020-08-10T01:33:41.446122Z"
    }
   },
   "outputs": [],
   "source": [
    "path = '../../data/raw/CVs/*'\n",
    "files = glob(os.path.abspath(path))"
   ]
  },
  {
   "cell_type": "code",
   "execution_count": null,
   "metadata": {
    "ExecuteTime": {
     "end_time": "2020-08-10T00:11:41.118061Z",
     "start_time": "2020-08-10T00:11:40.286993Z"
    },
    "tags": [
     "HIDE"
    ]
   },
   "outputs": [],
   "source": [
    "PQ = lattes.Pesquisador()\n",
    "PQ.periodo = ['2020','2019','2018','2017'];\n",
    "PQ.nome = nome\n",
    "file = '../../data/raw/CVs/'\n",
    "PQ.file = files[0]\n",
    "resultados = PQ.doSumarioUFCG()\n",
    "pontos = resultados[0]\n",
    "producao = resultados[1]\n",
    "producao_pontuada = resultados[2]\n",
    "pessoal = resultados[3]\n",
    "demografico = resultados[4]\n",
    "titulacao = resultados[5]\n",
    "\n"
   ]
  },
  {
   "cell_type": "markdown",
   "metadata": {},
   "source": [
    "<center><h5> <img src=\"./assets/Logo-UFCG.png\" width=\"80\" > </h5> \n",
    "    <h1> UNIVERSIDADE FEDERAL DE CAMPINA GRANDE </h1>\n",
    "    <h2> PRÓ-REITORIA DE PÓS-GRADUAÇÃO </h2>\n",
    "    <h2> Coordenação de Pesquisa </h2>\n",
    "    </center>\n",
    " "
   ]
  },
  {
   "cell_type": "markdown",
   "metadata": {
    "ExecuteTime": {
     "end_time": "2020-07-14T17:38:29.339493Z",
     "start_time": "2020-07-14T17:38:29.335157Z"
    }
   },
   "source": [
    "<div style=\"color:#ff8000;\" ><h2> Informações Metodológicas </h2></div>"
   ]
  },
  {
   "cell_type": "markdown",
   "metadata": {
    "ExecuteTime": {
     "end_time": "2020-07-14T17:46:27.268798Z",
     "start_time": "2020-07-14T17:46:27.263365Z"
    }
   },
   "source": [
    "\n",
    "- As informações foram extraídas do CV Lattes do pesquisador fornecido pelo próprio pesquisador.\n",
    "- Não foi realizada validação com o DTD do Lattes porque este está desatualizado e muitos falsos inválidos surgiram na primeira análise.\n",
    "- Todas as análises foram realizadas com Python, biblioteca LXML, que mostrou melhor performance do que as alternativas nativas.\n",
    "- Os elementos extraídos foram todos os elementos das árvores desejadas: Dados Pessoais, Formação Acadêmica, Produção Bibliográfica, Produção Técnica, Outras Produções.\n",
    "- O período considerado foi o período de quatro anos.\n",
    "- Dados de lotação foram extraídos de informações da própria UFCG, quando disponíveis.\n",
    "- Devido a grande diversidade de dados fornecidos, não houve utilidade em validar ISSN, ISBN e DOI\n",
    "- Pacote completo documentado será disponibilizado no GitHub.\n",
    "\n"
   ]
  },
  {
   "cell_type": "markdown",
   "metadata": {
    "ExecuteTime": {
     "end_time": "2020-07-14T17:02:48.215944Z",
     "start_time": "2020-07-14T17:02:48.209633Z"
    }
   },
   "source": [
    "<center><div style=\"color:blue;\" ><h1> Relatório Individual de Produção Acadêmica </h1></div></center>"
   ]
  },
  {
   "cell_type": "markdown",
   "metadata": {},
   "source": [
    "<div style=\"color:blue;\" ><h2> Informações do Sistema </h2></div>"
   ]
  },
  {
   "cell_type": "code",
   "execution_count": null,
   "metadata": {
    "ExecuteTime": {
     "end_time": "2020-08-10T00:11:43.181922Z",
     "start_time": "2020-08-10T00:11:42.829504Z"
    }
   },
   "outputs": [],
   "source": [
    "inicio = dt.now().strftime('%d/%m/%Y %H:%M')\n",
    "print(inicio)\n",
    "!whoami\n",
    "!uname -a\n",
    "!python --version"
   ]
  },
  {
   "cell_type": "markdown",
   "metadata": {},
   "source": [
    "<div style=\"color:blue;\" ><h2> Informações do Pesquisador </h2></div>"
   ]
  },
  {
   "cell_type": "markdown",
   "metadata": {},
   "source": [
    "#### Dados Pessoais\n"
   ]
  },
  {
   "cell_type": "code",
   "execution_count": null,
   "metadata": {
    "ExecuteTime": {
     "end_time": "2020-08-10T00:11:43.341145Z",
     "start_time": "2020-08-10T00:11:43.318716Z"
    },
    "tags": [
     "HIDE"
    ]
   },
   "outputs": [],
   "source": [
    "pessoal"
   ]
  },
  {
   "cell_type": "markdown",
   "metadata": {},
   "source": [
    "#### Dados Demográficos\n"
   ]
  },
  {
   "cell_type": "code",
   "execution_count": null,
   "metadata": {
    "ExecuteTime": {
     "end_time": "2020-08-10T00:11:44.419046Z",
     "start_time": "2020-08-10T00:11:44.406631Z"
    },
    "tags": [
     "HIDE"
    ]
   },
   "outputs": [],
   "source": [
    "demografico"
   ]
  },
  {
   "cell_type": "markdown",
   "metadata": {},
   "source": [
    "<div style=\"color:blue;\" ><h2> Informações de Titulação e Formação</h2></div>"
   ]
  },
  {
   "cell_type": "code",
   "execution_count": null,
   "metadata": {
    "ExecuteTime": {
     "end_time": "2020-08-10T00:11:45.487635Z",
     "start_time": "2020-08-10T00:11:45.470534Z"
    },
    "tags": [
     "HIDE"
    ]
   },
   "outputs": [],
   "source": [
    "titulacao"
   ]
  },
  {
   "cell_type": "markdown",
   "metadata": {},
   "source": [
    "<div style=\"color:blue;\" ><h2> Resumo da Produção Bibliográfica </h2></div>"
   ]
  },
  {
   "cell_type": "code",
   "execution_count": null,
   "metadata": {
    "ExecuteTime": {
     "end_time": "2020-08-10T00:11:48.196117Z",
     "start_time": "2020-08-10T00:11:48.174376Z"
    }
   },
   "outputs": [],
   "source": [
    "producao"
   ]
  },
  {
   "cell_type": "markdown",
   "metadata": {},
   "source": [
    "## Resumo de Produção Pontuada"
   ]
  },
  {
   "cell_type": "code",
   "execution_count": null,
   "metadata": {
    "ExecuteTime": {
     "end_time": "2020-08-10T00:12:06.293358Z",
     "start_time": "2020-08-10T00:12:06.274564Z"
    }
   },
   "outputs": [],
   "source": [
    "producao_pontuada"
   ]
  },
  {
   "cell_type": "markdown",
   "metadata": {},
   "source": [
    "## Nota de Currículo"
   ]
  },
  {
   "cell_type": "code",
   "execution_count": null,
   "metadata": {
    "ExecuteTime": {
     "end_time": "2020-08-10T00:12:22.105522Z",
     "start_time": "2020-08-10T00:12:22.090541Z"
    }
   },
   "outputs": [],
   "source": [
    "pontos"
   ]
  },
  {
   "cell_type": "markdown",
   "metadata": {},
   "source": [
    "# Critérios de Pontuação"
   ]
  },
  {
   "cell_type": "code",
   "execution_count": null,
   "metadata": {
    "ExecuteTime": {
     "end_time": "2020-08-10T00:12:31.095122Z",
     "start_time": "2020-08-10T00:12:31.057851Z"
    }
   },
   "outputs": [],
   "source": [
    "pontuacao = pd.read_excel('../data/pontuacao.xlsx')\n",
    "pontuacao.fillna('')"
   ]
  },
  {
   "cell_type": "code",
   "execution_count": null,
   "metadata": {},
   "outputs": [],
   "source": []
  }
 ],
 "metadata": {
  "celltoolbar": "Tags",
  "hide_input": false,
  "kernelspec": {
   "display_name": "vLattes",
   "language": "python",
   "name": "vlattes"
  },
  "language_info": {
   "codemirror_mode": {
    "name": "ipython",
    "version": 3
   },
   "file_extension": ".py",
   "mimetype": "text/x-python",
   "name": "python",
   "nbconvert_exporter": "python",
   "pygments_lexer": "ipython3",
   "version": "3.7.4"
  },
  "latex_envs": {
   "LaTeX_envs_menu_present": true,
   "autoclose": false,
   "autocomplete": true,
   "bibliofile": "biblio.bib",
   "cite_by": "apalike",
   "current_citInitial": 1,
   "eqLabelWithNumbers": true,
   "eqNumInitial": 1,
   "hotkeys": {
    "equation": "Ctrl-E",
    "itemize": "Ctrl-I"
   },
   "labels_anchors": false,
   "latex_user_defs": false,
   "report_style_numbering": false,
   "user_envs_cfg": false
  }
 },
 "nbformat": 4,
 "nbformat_minor": 4
}
