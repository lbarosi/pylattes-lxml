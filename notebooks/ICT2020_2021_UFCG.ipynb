{
 "cells": [
  {
   "cell_type": "code",
   "execution_count": 2,
   "metadata": {
    "ExecuteTime": {
     "end_time": "2020-07-28T10:13:06.465752Z",
     "start_time": "2020-07-28T10:13:03.604578Z"
    }
   },
   "outputs": [],
   "source": [
    "# Iniciando\n",
    "# 24.07.2020\n",
    "# LBL\n",
    "import importlib\n",
    "import os\n",
    "import sys\n",
    "from glob import glob\n",
    "import numpy as np\n",
    "import pandas as pd\n",
    "import random\n",
    "caminho = os.path.abspath(\"../src/pylattesLXML/\")\n",
    "os.chdir(caminho)\n",
    "dirpath = os.getcwd()\n",
    "# Pacotes básicos\n",
    "#show result from all calculations of the cell\n",
    "from IPython.core.interactiveshell import InteractiveShell\n",
    "InteractiveShell.ast_node_interactivity = \"all\"\n",
    "from datetime import datetime as dt"
   ]
  },
  {
   "cell_type": "markdown",
   "metadata": {},
   "source": [
    "<center><h5> <img src=\"./assets/Logo-UFCG.png\" width=\"80\" > </h5> \n",
    "    <h1> UNIVERSIDADE FEDERAL DE CAMPINA GRANDE </h1>\n",
    "    <h2> PRÓ-REITORIA DE PÓS-GRADUAÇÃO </h2>\n",
    "    <h2> Coordenação de Pesquisa </h2>\n",
    "    </center>\n",
    " "
   ]
  },
  {
   "cell_type": "markdown",
   "metadata": {},
   "source": [
    "# Dados Brutos de Projetos e Comitês: Fase de avaliação"
   ]
  },
  {
   "cell_type": "code",
   "execution_count": 3,
   "metadata": {
    "ExecuteTime": {
     "end_time": "2020-07-28T10:13:06.471448Z",
     "start_time": "2020-07-28T10:13:06.467581Z"
    }
   },
   "outputs": [],
   "source": [
    "#----Data para salvar os arquivos\n",
    "inicio = dt.now().strftime('%d_%m_%Y')\n",
    "#----Semente aleatória para reprodutibilidade\n",
    "random.seed(3)"
   ]
  },
  {
   "cell_type": "code",
   "execution_count": 4,
   "metadata": {
    "ExecuteTime": {
     "end_time": "2020-07-28T10:13:07.608402Z",
     "start_time": "2020-07-28T10:13:07.052725Z"
    }
   },
   "outputs": [],
   "source": [
    "#----Projetos Registrados no SAAP\n",
    "PIBIC = pd.read_excel('../../data/PROJETOS/PIBIC.xls')\n",
    "PIBIC_AF = pd.read_excel('../../data/PROJETOS/PIBIC-Af.xls')\n",
    "PIBIC_EM = pd.read_excel('../../data/PROJETOS/PIBIC-EM.xls')\n",
    "PIBITI = pd.read_excel('../../data/PROJETOS/PIBITI.xls')\n",
    "PIVIC = pd.read_excel('../../data/PROJETOS/PIVIC.xls')"
   ]
  },
  {
   "cell_type": "code",
   "execution_count": 5,
   "metadata": {
    "ExecuteTime": {
     "end_time": "2020-07-28T10:13:07.689817Z",
     "start_time": "2020-07-28T10:13:07.677746Z"
    }
   },
   "outputs": [],
   "source": [
    "#----Inclui tipos para consolidar\n",
    "PIBIC['TIPO']='PIBIC'\n",
    "PIBIC_AF['TIPO']='PIBIC_AF'\n",
    "PIBIC_EM['TIPO']='PIBIC_EM'\n",
    "PIBITI['TIPO']='PIBITI'\n",
    "PIVIC['TIPO']='PIVIC'"
   ]
  },
  {
   "cell_type": "code",
   "execution_count": 8,
   "metadata": {
    "ExecuteTime": {
     "end_time": "2020-07-28T10:15:35.668032Z",
     "start_time": "2020-07-28T10:15:35.395280Z"
    }
   },
   "outputs": [],
   "source": [
    "#----Projetos com informações de avaliação informados por Diego\n",
    "status_PIBIC = pd.read_excel('../../data/PROJETOS/EXTRATO AVALIACOES 2020.xls', sheet_name = 'PIBIC')\n",
    "status_PIBIC_AF = pd.read_excel('../../data/PROJETOS/EXTRATO AVALIACOES 2020.xls', sheet_name = 'PIBIC AF')\n",
    "status_PIBIC_EM = pd.read_excel('../../data/PROJETOS/EXTRATO AVALIACOES 2020.xls', sheet_name = 'PIBIC-PIVIC EM')\n",
    "status_PIBITI = pd.read_excel('../../data/PROJETOS/EXTRATO AVALIACOES 2020.xls', sheet_name = 'PIBITI-PIVITI')\n",
    "status_PIVIC = pd.read_excel('../../data/PROJETOS/EXTRATO AVALIACOES 2020.xls', sheet_name = 'PIVIC')"
   ]
  },
  {
   "cell_type": "code",
   "execution_count": 9,
   "metadata": {
    "ExecuteTime": {
     "end_time": "2020-07-28T10:15:36.886318Z",
     "start_time": "2020-07-28T10:15:36.456656Z"
    }
   },
   "outputs": [],
   "source": [
    "#----Concatena lista de projetos\n",
    "AVAL_status = pd.concat([status_PIBIC, status_PIBIC_AF,status_PIBIC_EM, status_PIBITI, status_PIVIC])\n",
    "AVAL_status = AVAL_status.fillna(0)\n",
    "#----Concatena lista de avaliações\n",
    "PROJETOS_status = pd.concat([PIBIC, PIBIC_AF,PIBIC_EM, PIBITI, PIVIC])\n",
    "PROJETOS_status = PROJETOS_status[['ID','TIPO','Área Conhecimento','Centro', 'Unidade', 'Docente','Título do Projeto']]\n",
    "#----Informações de embros do COmite\n",
    "COMITE = pd.read_excel('../../data/PROJETOS/COMITE_IC_2020.xlsx')\n",
    "COMITE = COMITE.fillna(0)\n",
    "\n"
   ]
  },
  {
   "cell_type": "code",
   "execution_count": 10,
   "metadata": {
    "ExecuteTime": {
     "end_time": "2020-07-28T10:15:38.121772Z",
     "start_time": "2020-07-28T10:15:38.112616Z"
    }
   },
   "outputs": [],
   "source": [
    "#----Uniformizando os nomes das colunas. Terrível\n",
    "colnames = {'administração':'ADMINISTRAÇÃO', 'agronomia':'AGRONOMIA', 'agrícola':'ENGENHARIA AGRÍCOLA', \n",
    "        'alimnentos':'CIÊNCIA E TECNOLOGIA DE ALIMENTOS', 'antropologia':'ANTROPOLOGIA', \n",
    "        'arquitetura':'ARQUITETURA E URBANISMO', 'artes':'ARTES', 'bioquímica':'BIOQUÍMICA', \n",
    "        'botânica':'BOTÂNICA', 'civil':'ENGENHARIA CIVIL', 'computação':'CIÊNCIA DA COMPUTAÇÃO', \n",
    "        'comunicação':'COMUNICAÇÃO', 'desenho industrial':'DESENHO INDUSTRIAL', 'direito':'DIREITO', \n",
    "        'ecologia':'ECOLOGIA', 'economia':'ECONOMIA', 'educação':'EDUCAÇÃO', 'elétrica':'ENGENHARIA ELÉTRICA',\n",
    "        'enfermagem':'ENFERMAGEM', 'estatística':'PROBABILIDADE E ESTATÍSTICA', 'farmacologia':'FARMACOLOGIA', 'farmácia':'FARMÁCIA', \n",
    "        'filosofia':'FILOSOFIA', 'florestal':'RECURSOS FLORESTAIS E ENGENHARIA FLORESTAL', 'física': 'FÍSICA', 'genética':'GENÉTICA',\n",
    "        'geociências':'GEOCIÊNCIAS', 'geografia':'GEOGRAFIA', 'história':'HISTÓRIA','letras':'LETRAS', \n",
    "        'linguística':'LINGUÍSTICA', 'matemática':'MATEMÁTICA', \n",
    "        'materiais':'ENGENHARIA DE MATERIAIS E METALÚRGICA', 'mecânica':'ENGENHARIA MECÂNICA', \n",
    "        'medicina':'MEDICINA', 'microbiologia':'MICROBIOLOGIA', 'morfologia':'MORFOLOGIA', 'nutrição':'NUTRIÇÃO',\n",
    "        'odontologia':'ODONTOLOGIA', 'política':'CIÊNCIA POLÍTICA', 'produção':'ENGENHARIA DE PRODUÇÃO', \n",
    "        'psicologia':'PSICOLOGIA', 'química':'QUÍMICA', 'química.1':'ENGENHARIA QUÍMICA', 'sanitária':'ENGENHARIA SANITÁRIA',\n",
    "        'saúde coletiva':'SAÚDE COLETIVA', 'sociologia':'SOCIOLOGIA',\n",
    "        'veterinária':'MEDICINA VETERINÁRIA', 'zoologia':'ZOOLOGIA', 'zootecnia':'ZOOTECNIA'}"
   ]
  },
  {
   "cell_type": "markdown",
   "metadata": {},
   "source": [
    "# Projetos e Avaliações"
   ]
  },
  {
   "cell_type": "markdown",
   "metadata": {},
   "source": [
    "## Projetos sem Avaliação!"
   ]
  },
  {
   "cell_type": "code",
   "execution_count": 14,
   "metadata": {
    "ExecuteTime": {
     "end_time": "2020-07-28T10:21:28.541908Z",
     "start_time": "2020-07-28T10:21:28.491309Z"
    }
   },
   "outputs": [
    {
     "data": {
      "text/html": [
       "<div>\n",
       "<style scoped>\n",
       "    .dataframe tbody tr th:only-of-type {\n",
       "        vertical-align: middle;\n",
       "    }\n",
       "\n",
       "    .dataframe tbody tr th {\n",
       "        vertical-align: top;\n",
       "    }\n",
       "\n",
       "    .dataframe thead th {\n",
       "        text-align: right;\n",
       "    }\n",
       "</style>\n",
       "<table border=\"1\" class=\"dataframe\">\n",
       "  <thead>\n",
       "    <tr style=\"text-align: right;\">\n",
       "      <th></th>\n",
       "      <th>TIPO</th>\n",
       "      <th>Área Conhecimento</th>\n",
       "      <th>AVALIADOS</th>\n",
       "    </tr>\n",
       "  </thead>\n",
       "  <tbody>\n",
       "    <tr>\n",
       "      <th>0</th>\n",
       "      <td>PIBIC</td>\n",
       "      <td>OUTROS</td>\n",
       "      <td>1</td>\n",
       "    </tr>\n",
       "  </tbody>\n",
       "</table>\n",
       "</div>"
      ],
      "text/plain": [
       "    TIPO Área Conhecimento  AVALIADOS\n",
       "0  PIBIC            OUTROS          1"
      ]
     },
     "execution_count": 14,
     "metadata": {},
     "output_type": "execute_result"
    }
   ],
   "source": [
    "# Junta informações de homologações com dados SAAP\n",
    "df_statusCHOP = AVAL_status[['ID', 'AVALIADOS','HOMOLOGADOS']]\n",
    "AVALIAR = PROJETOS_status.merge(df_statusCHOP, on='ID', how = 'left')\n",
    "#----Faltas duas avaliações\n",
    "sumario_AVAL_0 = AVALIAR[AVALIAR.AVALIADOS==0].groupby(['TIPO','Área Conhecimento'])['AVALIADOS'].count().reset_index()\n",
    "AVAL_0 = AVALIAR[AVALIAR.AVALIADOS==0]\n",
    "PATH = '../../data/PROJETOS/PROJETOS_0_AVALIACAO_' + inicio + '.xlsx' \n",
    "AVAL_0.to_excel(PATH, index = False)\n",
    "sumario_AVAL_0"
   ]
  },
  {
   "cell_type": "code",
   "execution_count": 16,
   "metadata": {
    "ExecuteTime": {
     "end_time": "2020-07-28T10:23:12.435248Z",
     "start_time": "2020-07-28T10:23:12.399970Z"
    }
   },
   "outputs": [
    {
     "data": {
      "text/html": [
       "<div>\n",
       "<style scoped>\n",
       "    .dataframe tbody tr th:only-of-type {\n",
       "        vertical-align: middle;\n",
       "    }\n",
       "\n",
       "    .dataframe tbody tr th {\n",
       "        vertical-align: top;\n",
       "    }\n",
       "\n",
       "    .dataframe thead th {\n",
       "        text-align: right;\n",
       "    }\n",
       "</style>\n",
       "<table border=\"1\" class=\"dataframe\">\n",
       "  <thead>\n",
       "    <tr style=\"text-align: right;\">\n",
       "      <th></th>\n",
       "      <th>TIPO</th>\n",
       "      <th>Área Conhecimento</th>\n",
       "      <th>AVALIADOS</th>\n",
       "    </tr>\n",
       "  </thead>\n",
       "  <tbody>\n",
       "    <tr>\n",
       "      <th>0</th>\n",
       "      <td>PIBIC</td>\n",
       "      <td>ENGENHARIA DE MATERIAIS E METALÚRGICA</td>\n",
       "      <td>8</td>\n",
       "    </tr>\n",
       "    <tr>\n",
       "      <th>1</th>\n",
       "      <td>PIBIC</td>\n",
       "      <td>ENGENHARIA DE TRANSPORTES</td>\n",
       "      <td>2</td>\n",
       "    </tr>\n",
       "    <tr>\n",
       "      <th>2</th>\n",
       "      <td>PIBIC</td>\n",
       "      <td>ENGENHARIA QUÍMICA</td>\n",
       "      <td>2</td>\n",
       "    </tr>\n",
       "    <tr>\n",
       "      <th>3</th>\n",
       "      <td>PIBIC</td>\n",
       "      <td>ENGENHARIA SANITÁRIA</td>\n",
       "      <td>1</td>\n",
       "    </tr>\n",
       "    <tr>\n",
       "      <th>4</th>\n",
       "      <td>PIBIC</td>\n",
       "      <td>PLANEJAMENTO URBANO E REGIONAL</td>\n",
       "      <td>3</td>\n",
       "    </tr>\n",
       "    <tr>\n",
       "      <th>5</th>\n",
       "      <td>PIBIC</td>\n",
       "      <td>PROBABILIDADE E ESTATÍSTICA</td>\n",
       "      <td>1</td>\n",
       "    </tr>\n",
       "    <tr>\n",
       "      <th>6</th>\n",
       "      <td>PIBIC_AF</td>\n",
       "      <td>SAÚDE COLETIVA</td>\n",
       "      <td>1</td>\n",
       "    </tr>\n",
       "    <tr>\n",
       "      <th>7</th>\n",
       "      <td>PIBITI</td>\n",
       "      <td>ENGENHARIA DE MATERIAIS E METALÚRGICA</td>\n",
       "      <td>3</td>\n",
       "    </tr>\n",
       "  </tbody>\n",
       "</table>\n",
       "</div>"
      ],
      "text/plain": [
       "       TIPO                      Área Conhecimento  AVALIADOS\n",
       "0     PIBIC  ENGENHARIA DE MATERIAIS E METALÚRGICA          8\n",
       "1     PIBIC              ENGENHARIA DE TRANSPORTES          2\n",
       "2     PIBIC                     ENGENHARIA QUÍMICA          2\n",
       "3     PIBIC                   ENGENHARIA SANITÁRIA          1\n",
       "4     PIBIC         PLANEJAMENTO URBANO E REGIONAL          3\n",
       "5     PIBIC            PROBABILIDADE E ESTATÍSTICA          1\n",
       "6  PIBIC_AF                         SAÚDE COLETIVA          1\n",
       "7    PIBITI  ENGENHARIA DE MATERIAIS E METALÚRGICA          3"
      ]
     },
     "execution_count": 16,
     "metadata": {},
     "output_type": "execute_result"
    }
   ],
   "source": [
    "# Junta informações de homologações com dados SAAP\n",
    "df_statusCHOP = AVAL_status[['ID', 'AVALIADOS','HOMOLOGADOS']]\n",
    "AVALIAR = PROJETOS_status.merge(df_statusCHOP, on='ID', how = 'left')\n",
    "#----Faltas duas avaliações\n",
    "sumario_AVAL_1 = AVALIAR[AVALIAR.AVALIADOS==1].groupby(['TIPO','Área Conhecimento'])['AVALIADOS'].count().reset_index()\n",
    "AVAL_1 = AVALIAR[AVALIAR.AVALIADOS==1]\n",
    "PATH = '../../data/PROJETOS/PROJETOS_0_AVALIACAO_' + inicio + '.xlsx' \n",
    "#AVAL_0.to_excel(PATH, index = False)\n",
    "sumario_AVAL_1"
   ]
  },
  {
   "cell_type": "code",
   "execution_count": 28,
   "metadata": {
    "ExecuteTime": {
     "end_time": "2020-07-28T10:38:17.167469Z",
     "start_time": "2020-07-28T10:38:17.155033Z"
    }
   },
   "outputs": [
    {
     "data": {
      "text/plain": [
       "(21, 9)"
      ]
     },
     "execution_count": 28,
     "metadata": {},
     "output_type": "execute_result"
    }
   ],
   "source": [
    "AVAL_1.shape"
   ]
  },
  {
   "cell_type": "code",
   "execution_count": 17,
   "metadata": {
    "ExecuteTime": {
     "end_time": "2020-07-28T10:24:09.937025Z",
     "start_time": "2020-07-28T10:24:09.899837Z"
    }
   },
   "outputs": [
    {
     "data": {
      "text/html": [
       "<div>\n",
       "<style scoped>\n",
       "    .dataframe tbody tr th:only-of-type {\n",
       "        vertical-align: middle;\n",
       "    }\n",
       "\n",
       "    .dataframe tbody tr th {\n",
       "        vertical-align: top;\n",
       "    }\n",
       "\n",
       "    .dataframe thead th {\n",
       "        text-align: right;\n",
       "    }\n",
       "</style>\n",
       "<table border=\"1\" class=\"dataframe\">\n",
       "  <thead>\n",
       "    <tr style=\"text-align: right;\">\n",
       "      <th></th>\n",
       "      <th>TIPO</th>\n",
       "      <th>Área Conhecimento</th>\n",
       "      <th>AVALIADOS</th>\n",
       "    </tr>\n",
       "  </thead>\n",
       "  <tbody>\n",
       "    <tr>\n",
       "      <th>0</th>\n",
       "      <td>PIBIC</td>\n",
       "      <td>ADMINISTRAÇÃO</td>\n",
       "      <td>11</td>\n",
       "    </tr>\n",
       "    <tr>\n",
       "      <th>1</th>\n",
       "      <td>PIBIC</td>\n",
       "      <td>AGRONOMIA</td>\n",
       "      <td>13</td>\n",
       "    </tr>\n",
       "    <tr>\n",
       "      <th>2</th>\n",
       "      <td>PIBIC</td>\n",
       "      <td>ANTROPOLOGIA</td>\n",
       "      <td>7</td>\n",
       "    </tr>\n",
       "    <tr>\n",
       "      <th>3</th>\n",
       "      <td>PIBIC</td>\n",
       "      <td>ARQUITETURA E URBANISMO</td>\n",
       "      <td>5</td>\n",
       "    </tr>\n",
       "    <tr>\n",
       "      <th>4</th>\n",
       "      <td>PIBIC</td>\n",
       "      <td>ARTES</td>\n",
       "      <td>1</td>\n",
       "    </tr>\n",
       "    <tr>\n",
       "      <th>...</th>\n",
       "      <td>...</td>\n",
       "      <td>...</td>\n",
       "      <td>...</td>\n",
       "    </tr>\n",
       "    <tr>\n",
       "      <th>151</th>\n",
       "      <td>PIVIC</td>\n",
       "      <td>QUÍMICA</td>\n",
       "      <td>4</td>\n",
       "    </tr>\n",
       "    <tr>\n",
       "      <th>152</th>\n",
       "      <td>PIVIC</td>\n",
       "      <td>SAÚDE COLETIVA</td>\n",
       "      <td>13</td>\n",
       "    </tr>\n",
       "    <tr>\n",
       "      <th>153</th>\n",
       "      <td>PIVIC</td>\n",
       "      <td>SERVIÇO SOCIAL</td>\n",
       "      <td>2</td>\n",
       "    </tr>\n",
       "    <tr>\n",
       "      <th>154</th>\n",
       "      <td>PIVIC</td>\n",
       "      <td>ZOOLOGIA</td>\n",
       "      <td>2</td>\n",
       "    </tr>\n",
       "    <tr>\n",
       "      <th>155</th>\n",
       "      <td>PIVIC</td>\n",
       "      <td>ZOOTECNIA</td>\n",
       "      <td>3</td>\n",
       "    </tr>\n",
       "  </tbody>\n",
       "</table>\n",
       "<p>156 rows × 3 columns</p>\n",
       "</div>"
      ],
      "text/plain": [
       "      TIPO        Área Conhecimento  AVALIADOS\n",
       "0    PIBIC            ADMINISTRAÇÃO         11\n",
       "1    PIBIC                AGRONOMIA         13\n",
       "2    PIBIC             ANTROPOLOGIA          7\n",
       "3    PIBIC  ARQUITETURA E URBANISMO          5\n",
       "4    PIBIC                    ARTES          1\n",
       "..     ...                      ...        ...\n",
       "151  PIVIC                  QUÍMICA          4\n",
       "152  PIVIC           SAÚDE COLETIVA         13\n",
       "153  PIVIC           SERVIÇO SOCIAL          2\n",
       "154  PIVIC                 ZOOLOGIA          2\n",
       "155  PIVIC                ZOOTECNIA          3\n",
       "\n",
       "[156 rows x 3 columns]"
      ]
     },
     "execution_count": 17,
     "metadata": {},
     "output_type": "execute_result"
    }
   ],
   "source": [
    "# Junta informações de homologações com dados SAAP\n",
    "df_statusCHOP = AVAL_status[['ID', 'AVALIADOS','HOMOLOGADOS']]\n",
    "AVALIAR = PROJETOS_status.merge(df_statusCHOP, on='ID', how = 'left')\n",
    "#----Faltas duas avaliações\n",
    "sumario_HOM_1 = AVALIAR[AVALIAR.HOMOLOGADOS<21].groupby(['TIPO','Área Conhecimento'])['AVALIADOS'].count().reset_index()\n",
    "PATH = '../../data/PROJETOS/PROJETOS_0_AVALIACAO_' + inicio + '.xlsx' \n",
    "#AVAL_0.to_excel(PATH, index = False)\n",
    "sumario_HOM_1"
   ]
  },
  {
   "cell_type": "markdown",
   "metadata": {},
   "source": [
    "## Projetos prontos"
   ]
  },
  {
   "cell_type": "code",
   "execution_count": 30,
   "metadata": {
    "ExecuteTime": {
     "end_time": "2020-07-28T10:40:14.199727Z",
     "start_time": "2020-07-28T10:40:14.143857Z"
    }
   },
   "outputs": [
    {
     "data": {
      "text/plain": [
       "460"
      ]
     },
     "execution_count": 30,
     "metadata": {},
     "output_type": "execute_result"
    }
   ],
   "source": [
    "#----prontos\n",
    "prontos = AVAL_status[AVAL_status.HOMOLOGADOS==2].groupby(['EDITAL','AREA CONHECIMENTO'])['HOMOLOGADOS'].count().reset_index()\n",
    "PATH = '../../data/PROJETOS/PROJETOS_pronts_' + inicio + '.xlsx' \n",
    "prontos.to_excel(PATH, index = False)\n",
    "prontos.HOMOLOGADOS.sum()"
   ]
  },
  {
   "cell_type": "markdown",
   "metadata": {},
   "source": [
    "## Projetos com duas avaliações homologadas: PRONTOS"
   ]
  },
  {
   "cell_type": "code",
   "execution_count": 31,
   "metadata": {
    "ExecuteTime": {
     "end_time": "2020-07-28T10:40:57.790611Z",
     "start_time": "2020-07-28T10:40:57.773052Z"
    }
   },
   "outputs": [
    {
     "data": {
      "text/plain": [
       "303"
      ]
     },
     "execution_count": 31,
     "metadata": {},
     "output_type": "execute_result"
    }
   ],
   "source": [
    "#----prontos\n",
    "excesso = AVAL_status[AVAL_status.HOMOLOGADOS>2].groupby(['EDITAL','AREA CONHECIMENTO'])['HOMOLOGADOS'].count().reset_index()\n",
    "PATH = '../../data/PROJETOS/PROJETOS_pronts_' + inicio + '.xlsx' \n",
    "#prontos.to_excel(PATH, index = False)\n",
    "excesso.HOMOLOGADOS.sum()"
   ]
  },
  {
   "cell_type": "code",
   "execution_count": 20,
   "metadata": {
    "ExecuteTime": {
     "end_time": "2020-07-28T10:31:05.571831Z",
     "start_time": "2020-07-28T10:31:05.557864Z"
    }
   },
   "outputs": [],
   "source": [
    "projetoProblemas = AVAL_status[AVAL_status.HOMOLOGADOS!=2]\n",
    "resumo = projetoProblemas.groupby(['EDITAL', 'AREA CONHECIMENTO'])['HOMOLOGADOS'].count().reset_index()"
   ]
  },
  {
   "cell_type": "code",
   "execution_count": 25,
   "metadata": {
    "ExecuteTime": {
     "end_time": "2020-07-28T10:33:01.244649Z",
     "start_time": "2020-07-28T10:33:01.240167Z"
    }
   },
   "outputs": [
    {
     "data": {
      "text/plain": [
       "'../../data/PROJETOS/PROJETOS_problemas_28_07_2020.xlsx'"
      ]
     },
     "execution_count": 25,
     "metadata": {},
     "output_type": "execute_result"
    }
   ],
   "source": [
    "PATH"
   ]
  },
  {
   "cell_type": "code",
   "execution_count": 26,
   "metadata": {
    "ExecuteTime": {
     "end_time": "2020-07-28T10:33:11.103575Z",
     "start_time": "2020-07-28T10:33:10.948989Z"
    }
   },
   "outputs": [],
   "source": [
    "PATH = '../../data/PROJETOS/PROJETOS_problemas_' + inicio + '.xlsx' \n",
    "projetoProblemas.to_excel(PATH, index = False)"
   ]
  },
  {
   "cell_type": "code",
   "execution_count": null,
   "metadata": {},
   "outputs": [],
   "source": []
  }
 ],
 "metadata": {
  "hide_input": false,
  "kernelspec": {
   "display_name": "vLattes",
   "language": "python",
   "name": "vlattes"
  },
  "language_info": {
   "codemirror_mode": {
    "name": "ipython",
    "version": 3
   },
   "file_extension": ".py",
   "mimetype": "text/x-python",
   "name": "python",
   "nbconvert_exporter": "python",
   "pygments_lexer": "ipython3",
   "version": "3.7.4"
  },
  "latex_envs": {
   "LaTeX_envs_menu_present": true,
   "autoclose": false,
   "autocomplete": true,
   "bibliofile": "biblio.bib",
   "cite_by": "apalike",
   "current_citInitial": 1,
   "eqLabelWithNumbers": true,
   "eqNumInitial": 1,
   "hotkeys": {
    "equation": "Ctrl-E",
    "itemize": "Ctrl-I"
   },
   "labels_anchors": false,
   "latex_user_defs": false,
   "report_style_numbering": false,
   "user_envs_cfg": false
  }
 },
 "nbformat": 4,
 "nbformat_minor": 4
}
